{
 "cells": [
  {
   "cell_type": "code",
   "execution_count": 137,
   "metadata": {},
   "outputs": [
    {
     "name": "stdout",
     "output_type": "stream",
     "text": [
      "  id   occupation age timeLeft                   name\n",
      "0  1  constructor  19       30   robert,dragos,robert\n",
      "1  2        witch  22       28  mariana,muntean,munte\n",
      "2  3     buldozer  66       36      jhon,palavra,pala\n",
      "3  4       pirate  23        5      bogdan,javra,juva\n",
      "4  5       doctor  55      100       alex,caine,catel\n",
      "5  6            5           12                9,10,19\n",
      "  id   occupation age timeLeft     name\n",
      "0  1  constructor  19       30   robert\n",
      "1  2        witch  22       28  muntean\n",
      "2  3     buldozer  66       36  palavra\n",
      "3  4       pirate  23        5     juva\n",
      "4  5       doctor  55      100    caine\n",
      "5  6            5           12       19\n"
     ]
    }
   ],
   "source": [
    "import pandas as pd\n",
    "from fuzzywuzzy import fuzz\n",
    "\n",
    "# DataFrames A, B, and C\n",
    "A = pd.DataFrame({'id': ['1', '2', '3', '4', '5', '6'],\n",
    "                  'name': ['robert', 'mariana', 'jhon', 'bogdan', 'alex', '9'],\n",
    "                  'occupation': ['constructor', 'witch', 'buldozer', 'pirate', 'doctor', '5']})\n",
    "\n",
    "B = pd.DataFrame({'id': ['1', '2', '3', '4', '5', '6'],\n",
    "                  'name': ['dragos', 'muntean', 'palavra', 'javra', 'caine', '10'],\n",
    "                  'age': ['19', '22', '66', '23', '55', '']})\n",
    "\n",
    "C = pd.DataFrame({'id': ['1', '2', '3', '4', '5', '6'],\n",
    "                  'name': ['robert', 'munte', 'pala', 'juva', 'catel', '19'],\n",
    "                  'timeLeft': ['30', '28', '36', '5', '100', '12']})\n",
    "\n",
    "# Merge A and B\n",
    "AB = pd.merge(A, B, how=\"inner\", on=\"id\")\n",
    "for index, record in AB.iterrows():\n",
    "    AB.at[index, \"name\"] = str(AB.at[index, \"name_x\"]) + \",\" + str(AB.at[index, \"name_y\"])\n",
    "AB.drop(columns=[\"name_x\", \"name_y\"], inplace=True)\n",
    "\n",
    "# Merge AB with C\n",
    "ABC = pd.merge(AB, C, how='inner', on=\"id\")\n",
    "for index, record in ABC.iterrows():\n",
    "    ABC.at[index, \"name\"] = str(ABC.at[index, \"name_x\"]) + \",\" + str(ABC.at[index, \"name_y\"])\n",
    "ABC.drop(columns=[\"name_y\",\"name_x\"], inplace=True)\n",
    "\n",
    "print(ABC)\n",
    "# Process to compute similarity scores and pick the name with the highest score\n",
    "for index, record in ABC.iterrows():\n",
    "    names = ABC.at[index, \"name\"].split(',')  # Split the concatenated names\n",
    "    scores = []\n",
    "    \n",
    "    # Calculate similarity scores for each name against the others\n",
    "    for i in range(len(names)):\n",
    "        score = 0\n",
    "        for j in range(len(names)):\n",
    "            if i != j:\n",
    "                score += fuzz.ratio(names[i], names[j])\n",
    "        scores.append(score)\n",
    "\n",
    "    # Find the name with the highest score and assign it back to ABC['name']\n",
    "    max_score_index = scores.index(max(scores))\n",
    "    ABC.at[index, \"name\"] = names[max_score_index]\n",
    "\n",
    "# Print the final ABC DataFrame\n",
    "print(ABC)\n"
   ]
  }
 ],
 "metadata": {
  "kernelspec": {
   "display_name": ".venv",
   "language": "python",
   "name": "python3"
  },
  "language_info": {
   "codemirror_mode": {
    "name": "ipython",
    "version": 3
   },
   "file_extension": ".py",
   "mimetype": "text/x-python",
   "name": "python",
   "nbconvert_exporter": "python",
   "pygments_lexer": "ipython3",
   "version": "3.12.6"
  }
 },
 "nbformat": 4,
 "nbformat_minor": 2
}
