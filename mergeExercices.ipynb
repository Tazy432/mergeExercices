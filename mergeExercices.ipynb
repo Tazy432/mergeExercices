{
 "cells": [
  {
   "cell_type": "code",
   "execution_count": 45,
   "metadata": {},
   "outputs": [],
   "source": [
    "import pandas as pd\n",
    "import kagglehub\n",
    "import numpy as np\n",
    "import kaggle\n",
    "\n"
   ]
  },
  {
   "cell_type": "code",
   "execution_count": 46,
   "metadata": {},
   "outputs": [
    {
     "name": "stdout",
     "output_type": "stream",
     "text": [
      "Path to dataset files: C:\\Users\\Andrei\\.cache\\kagglehub\\datasets\\ferhatucar\\cars1-dataset\\versions\\1\\cars1.csv\n",
      "Path to dataset files: C:\\Users\\Andrei\\.cache\\kagglehub\\datasets\\ferhatucar\\cars2-dataset\\versions\\1\\cars2.csv\n"
     ]
    }
   ],
   "source": [
    "import os\n",
    "import kagglehub\n",
    "\n",
    "# Download latest version\n",
    "if not os.path.exists(r\"C:\\Users\\Andrei\\.cache\\kagglehub\\datasets\\ferhatucar\\cars1-dataset\\versions\\1\\cars1.csv\"):\n",
    "    path1 = kagglehub.dataset_download(\"ferhatucar/cars1-dataset\")\n",
    "    path2 = kagglehub.dataset_download(\"ferhatucar/cars2-dataset\")\n",
    "    path1=path1+\"\\\\cars1.csv\"\n",
    "    path2=path2+\"\\\\cars2.csv\"\n",
    "\n",
    "print(\"Path to dataset files:\", path1)\n",
    "print(\"Path to dataset files:\", path2)\n",
    "\n"
   ]
  },
  {
   "cell_type": "code",
   "execution_count": 47,
   "metadata": {},
   "outputs": [],
   "source": [
    "cars1=pd.read_csv(path1,engine=\"python\",on_bad_lines=\"warn\")\n",
    "cars2=pd.read_csv(path2,engine=\"python\",on_bad_lines=\"warn\")\n"
   ]
  },
  {
   "cell_type": "code",
   "execution_count": 119,
   "metadata": {},
   "outputs": [
    {
     "name": "stdout",
     "output_type": "stream",
     "text": [
      "Index(['mpg', 'cylinders', 'displacement', 'horsepower', 'weight',\n",
      "       'acceleration', 'model', 'origin', 'car', 'Unnamed: 9', 'Unnamed: 10',\n",
      "       'Unnamed: 11', 'Unnamed: 12', 'Unnamed: 13'],\n",
      "      dtype='object')\n",
      "Index(['mpg', 'cylinders', 'displacement', 'horsepower', 'weight',\n",
      "       'acceleration', 'model', 'origin', 'car'],\n",
      "      dtype='object')\n"
     ]
    }
   ],
   "source": [
    "cars1.to_csv(\"cars1.csv\",index=False)\n",
    "cars2.to_csv(\"cars2.csv\",index=False)\n",
    "print(cars1.columns)\n",
    "print(cars2.columns)\n",
    "carsMerged=pd.merge(cars1,cars2,on=\"car\")\n",
    "# Assuming carsMerged is your DataFrame\n",
    "carsMerged = carsMerged.loc[:, ~carsMerged.columns.str.startswith('Unnamed')]\n",
    "\n",
    "\n",
    "carsMerged.to_csv(\"carsFinal.csv\",index=False)"
   ]
  },
  {
   "cell_type": "code",
   "execution_count": 118,
   "metadata": {},
   "outputs": [
    {
     "name": "stdout",
     "output_type": "stream",
     "text": [
      "  employee_x        group   nickname employee_y  hire_date\n",
      "0        Bob   Accounting     bobita        Bob       2004\n",
      "1       Jake  Engineering    cainele        Bob       2008\n",
      "2       Lisa  Engineering  mona lisa       Jake       2012\n"
     ]
    }
   ],
   "source": [
    "df1 = pd.DataFrame({'employee': ['Bob', 'Jake', 'Lisa', 'Sue'],\n",
    "                    'group': ['Accounting', 'Engineering', 'Engineering', 'HR'],\n",
    "                    'nickname':['bobita','cainele','mona lisa','avocatul2']})\n",
    "df2 = pd.DataFrame({'employee': ['Bob', 'Bob', 'Jake', 'Sue'],\n",
    "                    'hire_date': [2004, 2008, 2012, 2014],\n",
    "                    'nickname':['bobita','cainele','mona lisa','avocatu']})\n",
    "df3=pd.merge(df1,df2,on=\"employee\",how=\"inner\")\n",
    "print(df3.head())"
   ]
  },
  {
   "cell_type": "code",
   "execution_count": 66,
   "metadata": {},
   "outputs": [
    {
     "data": {
      "text/html": [
       "<div>\n",
       "<style scoped>\n",
       "    .dataframe tbody tr th:only-of-type {\n",
       "        vertical-align: middle;\n",
       "    }\n",
       "\n",
       "    .dataframe tbody tr th {\n",
       "        vertical-align: top;\n",
       "    }\n",
       "\n",
       "    .dataframe thead th {\n",
       "        text-align: right;\n",
       "    }\n",
       "</style>\n",
       "<table border=\"1\" class=\"dataframe\">\n",
       "  <thead>\n",
       "    <tr style=\"text-align: right;\">\n",
       "      <th></th>\n",
       "      <th>employee</th>\n",
       "      <th>hire_date</th>\n",
       "    </tr>\n",
       "  </thead>\n",
       "  <tbody>\n",
       "    <tr>\n",
       "      <th>0</th>\n",
       "      <td>Bob</td>\n",
       "      <td>2004</td>\n",
       "    </tr>\n",
       "    <tr>\n",
       "      <th>1</th>\n",
       "      <td>Bob</td>\n",
       "      <td>2008</td>\n",
       "    </tr>\n",
       "    <tr>\n",
       "      <th>2</th>\n",
       "      <td>Jake</td>\n",
       "      <td>2012</td>\n",
       "    </tr>\n",
       "    <tr>\n",
       "      <th>3</th>\n",
       "      <td>Sue</td>\n",
       "      <td>2014</td>\n",
       "    </tr>\n",
       "  </tbody>\n",
       "</table>\n",
       "</div>"
      ],
      "text/plain": [
       "  employee  hire_date\n",
       "0      Bob       2004\n",
       "1      Bob       2008\n",
       "2     Jake       2012\n",
       "3      Sue       2014"
      ]
     },
     "execution_count": 66,
     "metadata": {},
     "output_type": "execute_result"
    }
   ],
   "source": [
    "df2.head()"
   ]
  },
  {
   "cell_type": "code",
   "execution_count": 70,
   "metadata": {},
   "outputs": [
    {
     "name": "stdout",
     "output_type": "stream",
     "text": [
      "  employee        group nickname_x  hire_date nickname_y\n",
      "0      Bob   Accounting     bobita       2004     bobita\n",
      "1      Bob   Accounting     bobita       2008    cainele\n",
      "2     Jake  Engineering    cainele       2012  mona lisa\n",
      "3      Sue           HR  avocatul2       2014    avocatu\n"
     ]
    }
   ],
   "source": [
    "print(pd.merge(df1,df2,how=\"inner\",on=\"employee\"))"
   ]
  },
  {
   "cell_type": "code",
   "execution_count": 75,
   "metadata": {},
   "outputs": [],
   "source": [
    "animale=pd.read_csv(\"animale.csv\")\n",
    "proprietari=pd.read_csv(\"proprietari.csv\")\n",
    "joburi=pd.read_csv(\"locuriDemunca.csv\")\n",
    "\n",
    "proprietariSiAnimale=pd.merge(animale,proprietari,left_on=\"posesor\",right_on=\"numeProprietar\",how=\"inner\")\n",
    "proprietariSiAnimale.drop(columns=\"posesor\",axis=1)\n",
    "proprietariSiAnimale.to_csv(\"animale&proprietari.csv\",index=False)"
   ]
  },
  {
   "cell_type": "code",
   "execution_count": 81,
   "metadata": {},
   "outputs": [
    {
     "name": "stdout",
     "output_type": "stream",
     "text": [
      "{'robi': 220, 'robers': 143, 'mariana': 149, 'robica': 212, 'marin': 163}\n"
     ]
    }
   ],
   "source": [
    "from fuzzywuzzy import fuzz\n",
    "\n",
    "names = [\"robi\", \"robert\", \"mariana\",\"robica\",\"marin\"]\n",
    "scores={}\n",
    "\n",
    "# Compare each pair of names\n",
    "for i in names:\n",
    "    score=0\n",
    "    for j in names:\n",
    "        if i!=j:\n",
    "            score=score+fuzz.ratio(i,j)\n",
    "    scores[i]=score\n",
    "print(scores)\n",
    "\n",
    "\n"
   ]
  },
  {
   "cell_type": "code",
   "execution_count": 90,
   "metadata": {},
   "outputs": [
    {
     "name": "stdout",
     "output_type": "stream",
     "text": [
      "Conflict columns: ['name_A', 'name_B']\n",
      "  id   name_A   occupation   name_B age   name timeLeft\n",
      "0  1   robert  constructor   dragos  19   robi       30\n",
      "1  2  mariana        witch  muntean  22  munte       28\n",
      "2  3     jhon     buldozer  palavra  66   pala       36\n",
      "3  4   bogdan       pirate    javra  23   juva        5\n",
      "4  5     alex       doctor    caine  55  catel      100\n"
     ]
    }
   ],
   "source": [
    "import pandas as pd\n",
    "\n",
    "# DataFrames A, B, and C\n",
    "A = pd.DataFrame({'id': ['1', '2', '3', '4', '5'],\n",
    "                  'name': ['robert', 'mariana', 'jhon', 'bogdan', 'alex'],\n",
    "                  'occupation': ['constructor', 'witch', 'buldozer', 'pirate', 'doctor']})\n",
    "\n",
    "B = pd.DataFrame({'id': ['1', '2', '3', '4', '5'],\n",
    "                  'name': ['dragos', 'muntean', 'palavra', 'javra', 'caine'],\n",
    "                  'age': ['19', '22', '66', '23', '55']})\n",
    "\n",
    "C = pd.DataFrame({'id': ['1', '2', '3', '4', '5'],\n",
    "                  'name': ['robi', 'munte', 'pala', 'juva', 'catel'],\n",
    "                  'timeLeft': ['30', '28', '36', '5', '100']})\n",
    "\n",
    "# Merging all three with suffixes to indicate conflicts\n",
    "ABC = pd.merge(pd.merge(A, B, on=\"id\", how=\"inner\", suffixes=('_A', '_B')), \n",
    "               C, on=\"id\", how=\"inner\", suffixes=('', '_C'))\n",
    "\n",
    "# Find columns with conflicts (those with suffixes)\n",
    "conflict_columns = [col for col in ABC.columns if '_A' in col or '_B' in col or '_C' in col]\n",
    "\n",
    "# Print the columns that have conflicts\n",
    "print(\"Conflict columns:\", conflict_columns)\n",
    "\n",
    "# Print the DataFrame to observe\n",
    "print(ABC.head())\n"
   ]
  },
  {
   "cell_type": "code",
   "execution_count": 137,
   "metadata": {},
   "outputs": [
    {
     "name": "stdout",
     "output_type": "stream",
     "text": [
      "  id   occupation age timeLeft                   name\n",
      "0  1  constructor  19       30   robert,dragos,robert\n",
      "1  2        witch  22       28  mariana,muntean,munte\n",
      "2  3     buldozer  66       36      jhon,palavra,pala\n",
      "3  4       pirate  23        5      bogdan,javra,juva\n",
      "4  5       doctor  55      100       alex,caine,catel\n",
      "5  6            5           12                9,10,19\n",
      "  id   occupation age timeLeft     name\n",
      "0  1  constructor  19       30   robert\n",
      "1  2        witch  22       28  muntean\n",
      "2  3     buldozer  66       36  palavra\n",
      "3  4       pirate  23        5     juva\n",
      "4  5       doctor  55      100    caine\n",
      "5  6            5           12       19\n"
     ]
    }
   ],
   "source": [
    "import pandas as pd\n",
    "from fuzzywuzzy import fuzz\n",
    "\n",
    "# DataFrames A, B, and C\n",
    "A = pd.DataFrame({'id': ['1', '2', '3', '4', '5', '6'],\n",
    "                  'name': ['robert', 'mariana', 'jhon', 'bogdan', 'alex', '9'],\n",
    "                  'occupation': ['constructor', 'witch', 'buldozer', 'pirate', 'doctor', '5']})\n",
    "\n",
    "B = pd.DataFrame({'id': ['1', '2', '3', '4', '5', '6'],\n",
    "                  'name': ['dragos', 'muntean', 'palavra', 'javra', 'caine', '10'],\n",
    "                  'age': ['19', '22', '66', '23', '55', '']})\n",
    "\n",
    "C = pd.DataFrame({'id': ['1', '2', '3', '4', '5', '6'],\n",
    "                  'name': ['robert', 'munte', 'pala', 'juva', 'catel', '19'],\n",
    "                  'timeLeft': ['30', '28', '36', '5', '100', '12']})\n",
    "\n",
    "# Merge A and B\n",
    "AB = pd.merge(A, B, how=\"inner\", on=\"id\")\n",
    "for index, record in AB.iterrows():\n",
    "    AB.at[index, \"name\"] = str(AB.at[index, \"name_x\"]) + \",\" + str(AB.at[index, \"name_y\"])\n",
    "AB.drop(columns=[\"name_x\", \"name_y\"], inplace=True)\n",
    "\n",
    "# Merge AB with C\n",
    "ABC = pd.merge(AB, C, how='inner', on=\"id\")\n",
    "for index, record in ABC.iterrows():\n",
    "    ABC.at[index, \"name\"] = str(ABC.at[index, \"name_x\"]) + \",\" + str(ABC.at[index, \"name_y\"])\n",
    "ABC.drop(columns=[\"name_y\",\"name_x\"], inplace=True)\n",
    "\n",
    "print(ABC)\n",
    "# Process to compute similarity scores and pick the name with the highest score\n",
    "for index, record in ABC.iterrows():\n",
    "    names = ABC.at[index, \"name\"].split(',')  # Split the concatenated names\n",
    "    scores = []\n",
    "    \n",
    "    # Calculate similarity scores for each name against the others\n",
    "    for i in range(len(names)):\n",
    "        score = 0\n",
    "        for j in range(len(names)):\n",
    "            if i != j:\n",
    "                score += fuzz.ratio(names[i], names[j])\n",
    "        scores.append(score)\n",
    "\n",
    "    # Find the name with the highest score and assign it back to ABC['name']\n",
    "    max_score_index = scores.index(max(scores))\n",
    "    ABC.at[index, \"name\"] = names[max_score_index]\n",
    "\n",
    "# Print the final ABC DataFrame\n",
    "print(ABC)\n"
   ]
  }
 ],
 "metadata": {
  "kernelspec": {
   "display_name": ".venv",
   "language": "python",
   "name": "python3"
  },
  "language_info": {
   "codemirror_mode": {
    "name": "ipython",
    "version": 3
   },
   "file_extension": ".py",
   "mimetype": "text/x-python",
   "name": "python",
   "nbconvert_exporter": "python",
   "pygments_lexer": "ipython3",
   "version": "3.12.6"
  }
 },
 "nbformat": 4,
 "nbformat_minor": 2
}
